{
 "cells": [
  {
   "cell_type": "code",
   "execution_count": 1,
   "id": "5f43f3fb",
   "metadata": {},
   "outputs": [],
   "source": [
    "import numpy as np\n",
    "import pandas as pd\n",
    "import datetime"
   ]
  },
  {
   "cell_type": "code",
   "execution_count": 2,
   "id": "3bd6ed72",
   "metadata": {},
   "outputs": [],
   "source": [
    "record={\n",
    "    'Sales_ID' : [10,20,30,10,20,30,10,20,30],\n",
    "    'Date' : [datetime.datetime(2022,1,16),datetime.datetime(2022,1,16),datetime.datetime(2022,1,16),datetime.datetime(2022,1,17),datetime.datetime(2022,1,17),\n",
    "            datetime.datetime(2022,1,17),datetime.datetime(2022,1,18),datetime.datetime(2022,1,18),datetime.datetime(2022,1,18)],\n",
    "    'Sales' : [30,20,50,68,78,75,93,84,28]\n",
    "}\n",
    "df2 = pd.DataFrame(record,columns = ['Sales_ID', 'Date', 'Sales'])"
   ]
  },
  {
   "cell_type": "code",
   "execution_count": 3,
   "id": "13ec1174",
   "metadata": {},
   "outputs": [
    {
     "data": {
      "text/html": [
       "<div>\n",
       "<style scoped>\n",
       "    .dataframe tbody tr th:only-of-type {\n",
       "        vertical-align: middle;\n",
       "    }\n",
       "\n",
       "    .dataframe tbody tr th {\n",
       "        vertical-align: top;\n",
       "    }\n",
       "\n",
       "    .dataframe thead th {\n",
       "        text-align: right;\n",
       "    }\n",
       "</style>\n",
       "<table border=\"1\" class=\"dataframe\">\n",
       "  <thead>\n",
       "    <tr style=\"text-align: right;\">\n",
       "      <th></th>\n",
       "      <th>Sales_ID</th>\n",
       "      <th>Date</th>\n",
       "      <th>Sales</th>\n",
       "    </tr>\n",
       "  </thead>\n",
       "  <tbody>\n",
       "    <tr>\n",
       "      <th>0</th>\n",
       "      <td>10</td>\n",
       "      <td>2022-01-16</td>\n",
       "      <td>30</td>\n",
       "    </tr>\n",
       "    <tr>\n",
       "      <th>1</th>\n",
       "      <td>20</td>\n",
       "      <td>2022-01-16</td>\n",
       "      <td>20</td>\n",
       "    </tr>\n",
       "    <tr>\n",
       "      <th>2</th>\n",
       "      <td>30</td>\n",
       "      <td>2022-01-16</td>\n",
       "      <td>50</td>\n",
       "    </tr>\n",
       "    <tr>\n",
       "      <th>3</th>\n",
       "      <td>10</td>\n",
       "      <td>2022-01-17</td>\n",
       "      <td>68</td>\n",
       "    </tr>\n",
       "    <tr>\n",
       "      <th>4</th>\n",
       "      <td>20</td>\n",
       "      <td>2022-01-17</td>\n",
       "      <td>78</td>\n",
       "    </tr>\n",
       "    <tr>\n",
       "      <th>5</th>\n",
       "      <td>30</td>\n",
       "      <td>2022-01-17</td>\n",
       "      <td>75</td>\n",
       "    </tr>\n",
       "    <tr>\n",
       "      <th>6</th>\n",
       "      <td>10</td>\n",
       "      <td>2022-01-18</td>\n",
       "      <td>93</td>\n",
       "    </tr>\n",
       "    <tr>\n",
       "      <th>7</th>\n",
       "      <td>20</td>\n",
       "      <td>2022-01-18</td>\n",
       "      <td>84</td>\n",
       "    </tr>\n",
       "    <tr>\n",
       "      <th>8</th>\n",
       "      <td>30</td>\n",
       "      <td>2022-01-18</td>\n",
       "      <td>28</td>\n",
       "    </tr>\n",
       "  </tbody>\n",
       "</table>\n",
       "</div>"
      ],
      "text/plain": [
       "   Sales_ID       Date  Sales\n",
       "0        10 2022-01-16     30\n",
       "1        20 2022-01-16     20\n",
       "2        30 2022-01-16     50\n",
       "3        10 2022-01-17     68\n",
       "4        20 2022-01-17     78\n",
       "5        30 2022-01-17     75\n",
       "6        10 2022-01-18     93\n",
       "7        20 2022-01-18     84\n",
       "8        30 2022-01-18     28"
      ]
     },
     "execution_count": 3,
     "metadata": {},
     "output_type": "execute_result"
    }
   ],
   "source": [
    "df2"
   ]
  },
  {
   "cell_type": "code",
   "execution_count": 4,
   "id": "30650f8b",
   "metadata": {},
   "outputs": [],
   "source": [
    "def fun2(ID,date):\n",
    "    format = '%Y-%m-%d' \n",
    "    converted_date = datetime.datetime.strptime(date, format)\n",
    "    print(df2[(df2['Sales_ID']==ID) & (df2['Date']==converted_date - datetime.timedelta(days=1))])"
   ]
  },
  {
   "cell_type": "code",
   "execution_count": 5,
   "id": "2c741e93",
   "metadata": {},
   "outputs": [
    {
     "name": "stdout",
     "output_type": "stream",
     "text": [
      "   Sales_ID       Date  Sales\n",
      "2        30 2022-01-16     50\n"
     ]
    }
   ],
   "source": [
    "fun2(30,'2022-01-17')"
   ]
  }
 ],
 "metadata": {
  "hide_input": false,
  "kernelspec": {
   "display_name": "Python 3 (ipykernel)",
   "language": "python",
   "name": "python3"
  },
  "language_info": {
   "codemirror_mode": {
    "name": "ipython",
    "version": 3
   },
   "file_extension": ".py",
   "mimetype": "text/x-python",
   "name": "python",
   "nbconvert_exporter": "python",
   "pygments_lexer": "ipython3",
   "version": "3.9.12"
  },
  "toc": {
   "base_numbering": 1,
   "nav_menu": {},
   "number_sections": true,
   "sideBar": true,
   "skip_h1_title": false,
   "title_cell": "Table of Contents",
   "title_sidebar": "Contents",
   "toc_cell": false,
   "toc_position": {},
   "toc_section_display": true,
   "toc_window_display": false
  }
 },
 "nbformat": 4,
 "nbformat_minor": 5
}
