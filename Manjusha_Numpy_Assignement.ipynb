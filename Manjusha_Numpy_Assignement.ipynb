{
 "cells": [
  {
   "cell_type": "markdown",
   "id": "0b171370",
   "metadata": {},
   "source": [
    "#  Import the numpy package under the name np "
   ]
  },
  {
   "cell_type": "code",
   "execution_count": 1,
   "id": "356cfbb8",
   "metadata": {},
   "outputs": [],
   "source": [
    "import numpy as np"
   ]
  },
  {
   "cell_type": "markdown",
   "id": "6794211e",
   "metadata": {},
   "source": [
    "# Print the numpy version and the configuration \n"
   ]
  },
  {
   "cell_type": "code",
   "execution_count": 2,
   "id": "3c5aa145",
   "metadata": {
    "scrolled": false
   },
   "outputs": [
    {
     "name": "stdout",
     "output_type": "stream",
     "text": [
      "1.21.5\n"
     ]
    }
   ],
   "source": [
    "\n",
    "from numpy import  __version__\n",
    "print(__version__)"
   ]
  },
  {
   "cell_type": "markdown",
   "id": "9913b6a2",
   "metadata": {},
   "source": [
    "# Create a null vector of size 20 x="
   ]
  },
  {
   "cell_type": "code",
   "execution_count": 4,
   "id": "3135c315",
   "metadata": {},
   "outputs": [
    {
     "name": "stdout",
     "output_type": "stream",
     "text": [
      "[0. 0. 0. 0. 0. 0. 0. 0. 0. 0. 0. 0. 0. 0. 0. 0. 0. 0. 0. 0.]\n"
     ]
    }
   ],
   "source": [
    "x=np.zeros(20)\n",
    "print(x)"
   ]
  },
  {
   "cell_type": "markdown",
   "id": "51fbecbf",
   "metadata": {},
   "source": [
    "# How to find the memory size of any array "
   ]
  },
  {
   "cell_type": "code",
   "execution_count": 50,
   "id": "cbf42101",
   "metadata": {},
   "outputs": [
    {
     "data": {
      "text/plain": [
       "20"
      ]
     },
     "execution_count": 50,
     "metadata": {},
     "output_type": "execute_result"
    }
   ],
   "source": [
    "x=np.random.randint(0,15,20)\n",
    "np.size(x)"
   ]
  },
  {
   "cell_type": "markdown",
   "id": "3b690c56",
   "metadata": {},
   "source": [
    "# How to get the documentation of the numpy add function from the command line? "
   ]
  },
  {
   "cell_type": "code",
   "execution_count": null,
   "id": "3e114c95",
   "metadata": {
    "scrolled": true
   },
   "outputs": [],
   "source": []
  },
  {
   "cell_type": "markdown",
   "id": "d206ca71",
   "metadata": {},
   "source": [
    "# Create a null vector of size 20 but the fifth value which is 1 "
   ]
  },
  {
   "cell_type": "code",
   "execution_count": 74,
   "id": "7eedff31",
   "metadata": {},
   "outputs": [
    {
     "name": "stdout",
     "output_type": "stream",
     "text": [
      "[0. 0. 0. 0. 1. 0. 0. 0. 0. 0. 0. 0. 0. 0. 0. 0. 0. 0. 0. 0.]\n"
     ]
    }
   ],
   "source": [
    "x=np.zeros(20)\n",
    "x[4]=1\n",
    "print(x)"
   ]
  },
  {
   "cell_type": "markdown",
   "id": "8e9b43a2",
   "metadata": {},
   "source": [
    "# Create a vector with values ranging from 10 to 68 "
   ]
  },
  {
   "cell_type": "code",
   "execution_count": 16,
   "id": "bd1d75c0",
   "metadata": {},
   "outputs": [
    {
     "data": {
      "text/plain": [
       "array([16, 36, 51, 13, 23, 55, 19, 44, 50, 65])"
      ]
     },
     "execution_count": 16,
     "metadata": {},
     "output_type": "execute_result"
    }
   ],
   "source": [
    "x=np.random.randint(10,68,10)\n",
    "x"
   ]
  },
  {
   "cell_type": "markdown",
   "id": "54b959fe",
   "metadata": {},
   "source": [
    "# Reverse a vector (first element becomes last) "
   ]
  },
  {
   "cell_type": "code",
   "execution_count": 24,
   "id": "dfccaf8a",
   "metadata": {},
   "outputs": [
    {
     "data": {
      "text/plain": [
       "array([22, 17, 11, 20, 20, 16, 19, 19, 25, 27])"
      ]
     },
     "execution_count": 24,
     "metadata": {},
     "output_type": "execute_result"
    }
   ],
   "source": [
    "x=np.random.randint(10,30,10)\n",
    "x"
   ]
  },
  {
   "cell_type": "code",
   "execution_count": 25,
   "id": "de3a74bb",
   "metadata": {},
   "outputs": [
    {
     "data": {
      "text/plain": [
       "array([27, 25, 19, 19, 16, 20, 20, 11, 17, 22])"
      ]
     },
     "execution_count": 25,
     "metadata": {},
     "output_type": "execute_result"
    }
   ],
   "source": [
    "np.flip(x)"
   ]
  },
  {
   "cell_type": "markdown",
   "id": "1a96b300",
   "metadata": {},
   "source": [
    "# Create a 3x3 matrix with values ranging from 0 to 10"
   ]
  },
  {
   "cell_type": "code",
   "execution_count": 6,
   "id": "9e8e4141",
   "metadata": {},
   "outputs": [
    {
     "data": {
      "text/plain": [
       "array([[8, 8, 0],\n",
       "       [1, 3, 4],\n",
       "       [3, 9, 9]])"
      ]
     },
     "execution_count": 6,
     "metadata": {},
     "output_type": "execute_result"
    }
   ],
   "source": [
    "np.random.randint(0,10,(3,3))"
   ]
  },
  {
   "cell_type": "markdown",
   "id": "81670b0e",
   "metadata": {},
   "source": [
    "# Find indices of non-zero elements from [0,2,1,0,4,0] "
   ]
  },
  {
   "cell_type": "code",
   "execution_count": 75,
   "id": "27e1bd2b",
   "metadata": {},
   "outputs": [
    {
     "data": {
      "text/plain": [
       "array([], shape=(6, 1, 2, 0, 0, 4, 0), dtype=int32)"
      ]
     },
     "execution_count": 75,
     "metadata": {},
     "output_type": "execute_result"
    }
   ],
   "source": [
    "np.indices([1,2,0,0,4,0])"
   ]
  },
  {
   "cell_type": "markdown",
   "id": "ce3161d7",
   "metadata": {},
   "source": [
    "# Create a 3x3 identity matrix "
   ]
  },
  {
   "cell_type": "code",
   "execution_count": 23,
   "id": "4a921685",
   "metadata": {},
   "outputs": [
    {
     "data": {
      "text/plain": [
       "array([[1., 0., 0.],\n",
       "       [0., 1., 0.],\n",
       "       [0., 0., 1.]])"
      ]
     },
     "execution_count": 23,
     "metadata": {},
     "output_type": "execute_result"
    }
   ],
   "source": [
    "np.eye(3,3)"
   ]
  },
  {
   "cell_type": "markdown",
   "id": "5815b7f9",
   "metadata": {},
   "source": [
    "# Create a 3x3x3 array with random values\n"
   ]
  },
  {
   "cell_type": "code",
   "execution_count": 7,
   "id": "f41ef732",
   "metadata": {},
   "outputs": [
    {
     "data": {
      "text/plain": [
       "array([[[8, 3, 4],\n",
       "        [4, 4, 4],\n",
       "        [8, 1, 1]],\n",
       "\n",
       "       [[8, 4, 2],\n",
       "        [7, 2, 3],\n",
       "        [1, 4, 3]],\n",
       "\n",
       "       [[8, 4, 5],\n",
       "        [1, 5, 1],\n",
       "        [9, 1, 5]]])"
      ]
     },
     "execution_count": 7,
     "metadata": {},
     "output_type": "execute_result"
    }
   ],
   "source": [
    "y=np.random.randint(1,10,(3,3,3))\n",
    "y"
   ]
  },
  {
   "cell_type": "markdown",
   "id": "b5cf1137",
   "metadata": {},
   "source": [
    "#  Create a 10x10 array with random values and find the minimum and maximum values "
   ]
  },
  {
   "cell_type": "code",
   "execution_count": 9,
   "id": "5ac8b07f",
   "metadata": {},
   "outputs": [
    {
     "data": {
      "text/plain": [
       "(1, 99)"
      ]
     },
     "execution_count": 9,
     "metadata": {},
     "output_type": "execute_result"
    }
   ],
   "source": [
    "x=np.random.randint(1,100,(10,10))\n",
    "x.min(),x.max()"
   ]
  },
  {
   "cell_type": "markdown",
   "id": "1e76375e",
   "metadata": {},
   "source": [
    "# Create a random vector of size 30 and find the mean value "
   ]
  },
  {
   "cell_type": "code",
   "execution_count": 19,
   "id": "d363d801",
   "metadata": {},
   "outputs": [
    {
     "data": {
      "text/plain": [
       "5.233333333333333"
      ]
     },
     "execution_count": 19,
     "metadata": {},
     "output_type": "execute_result"
    }
   ],
   "source": [
    "y=np.random.randint(1,10,30)\n",
    "y.mean()"
   ]
  },
  {
   "cell_type": "markdown",
   "id": "d2a74e2a",
   "metadata": {},
   "source": [
    "# Create a 2d array with 1 on the border and 0 inside \n"
   ]
  },
  {
   "cell_type": "code",
   "execution_count": 76,
   "id": "50f1db82",
   "metadata": {},
   "outputs": [
    {
     "data": {
      "text/plain": [
       "array([[1., 1., 1., 1., 1., 1., 1., 1.],\n",
       "       [1., 0., 0., 0., 0., 0., 0., 1.],\n",
       "       [1., 0., 0., 0., 0., 0., 0., 1.],\n",
       "       [1., 0., 0., 0., 0., 0., 0., 1.],\n",
       "       [1., 0., 0., 0., 0., 0., 0., 1.],\n",
       "       [1., 0., 0., 0., 0., 0., 0., 1.],\n",
       "       [1., 0., 0., 0., 0., 0., 0., 1.],\n",
       "       [1., 1., 1., 1., 1., 1., 1., 1.]])"
      ]
     },
     "execution_count": 76,
     "metadata": {},
     "output_type": "execute_result"
    }
   ],
   "source": [
    "x=np.ones((8,8))\n",
    "x[1:-1,1:-1]=0\n",
    "x"
   ]
  },
  {
   "cell_type": "markdown",
   "id": "49615f62",
   "metadata": {},
   "source": [
    "# How to add a border (filled with 0's) around an existing array? "
   ]
  },
  {
   "cell_type": "code",
   "execution_count": null,
   "id": "01a8a84e",
   "metadata": {},
   "outputs": [],
   "source": []
  },
  {
   "cell_type": "markdown",
   "id": "310cb0d0",
   "metadata": {},
   "source": [
    "# What is the result of the following expression? "
   ]
  },
  {
   "cell_type": "raw",
   "id": "a51069e0",
   "metadata": {},
   "source": [
    "0 * np.nan\n",
    "np.nan == np.nan\n",
    "np.inf > np.nan\n",
    "np.nan - np.nan\n",
    "np.nan in set([np.nan])\n",
    "0.3 == 3 * 0.1"
   ]
  },
  {
   "cell_type": "code",
   "execution_count": null,
   "id": "b1bd9f3b",
   "metadata": {},
   "outputs": [],
   "source": []
  },
  {
   "cell_type": "markdown",
   "id": "d9bcb98f",
   "metadata": {},
   "source": [
    "# Create a 5x5 matrix with values 1,2,3,4 just below the diagonal "
   ]
  },
  {
   "cell_type": "code",
   "execution_count": 77,
   "id": "1b02b2c3",
   "metadata": {},
   "outputs": [
    {
     "name": "stdout",
     "output_type": "stream",
     "text": [
      "[[0. 0. 0. 0. 0.]\n",
      " [1. 0. 0. 0. 0.]\n",
      " [0. 2. 0. 0. 0.]\n",
      " [0. 0. 3. 0. 0.]\n",
      " [0. 0. 0. 4. 0.]]\n"
     ]
    }
   ],
   "source": [
    "n=5\n",
    "a=np.zeros((n,n))\n",
    "a\n",
    "for i in range(n):\n",
    "    for j in range(n):\n",
    "        if(j==i-1):\n",
    "            a[i,j]=i\n",
    "print(a)"
   ]
  },
  {
   "cell_type": "markdown",
   "id": "b1457d54",
   "metadata": {},
   "source": [
    "# Create a 8x8 matrix and fill it with a checkerboard pattern \n"
   ]
  },
  {
   "cell_type": "code",
   "execution_count": null,
   "id": "8507b403",
   "metadata": {},
   "outputs": [],
   "source": []
  },
  {
   "cell_type": "markdown",
   "id": "6a64f0b9",
   "metadata": {},
   "source": [
    "# Create a checkerboard 8x8 matrix using the tile function \n"
   ]
  },
  {
   "cell_type": "code",
   "execution_count": 73,
   "id": "47542d72",
   "metadata": {},
   "outputs": [
    {
     "data": {
      "text/plain": [
       "array([[0, 1, 0, 1, 0, 1, 0, 1],\n",
       "       [0, 1, 0, 1, 0, 1, 0, 1],\n",
       "       [0, 1, 0, 1, 0, 1, 0, 1],\n",
       "       [0, 1, 0, 1, 0, 1, 0, 1],\n",
       "       [0, 1, 0, 1, 0, 1, 0, 1],\n",
       "       [0, 1, 0, 1, 0, 1, 0, 1],\n",
       "       [0, 1, 0, 1, 0, 1, 0, 1],\n",
       "       [0, 1, 0, 1, 0, 1, 0, 1]])"
      ]
     },
     "execution_count": 73,
     "metadata": {},
     "output_type": "execute_result"
    }
   ],
   "source": [
    "np.tile((0,1),(8,4))"
   ]
  },
  {
   "cell_type": "markdown",
   "id": "fb375fdd",
   "metadata": {},
   "source": [
    "# Normalize a 5x5 random matrix "
   ]
  },
  {
   "cell_type": "code",
   "execution_count": null,
   "id": "46fb5ee8",
   "metadata": {},
   "outputs": [],
   "source": []
  },
  {
   "cell_type": "markdown",
   "id": "3473ca92",
   "metadata": {},
   "source": [
    "# Create a custom dtype that describes a color as four unsigned bytes (RGBA) "
   ]
  },
  {
   "cell_type": "code",
   "execution_count": null,
   "id": "6ea4b5f6",
   "metadata": {},
   "outputs": [],
   "source": []
  },
  {
   "cell_type": "markdown",
   "id": "0bf91a85",
   "metadata": {},
   "source": [
    "# Multiply a 5x3 matrix by a 3x2 matrix (real matrix product) "
   ]
  },
  {
   "cell_type": "code",
   "execution_count": 26,
   "id": "a1d402f9",
   "metadata": {},
   "outputs": [
    {
     "data": {
      "text/plain": [
       "(array([[2, 3, 4],\n",
       "        [4, 1, 4],\n",
       "        [1, 4, 2],\n",
       "        [1, 2, 3],\n",
       "        [1, 2, 4]]),\n",
       " array([[4, 2],\n",
       "        [4, 1],\n",
       "        [1, 4]]))"
      ]
     },
     "execution_count": 26,
     "metadata": {},
     "output_type": "execute_result"
    }
   ],
   "source": [
    "x=np.random.randint(1,5,(5,3))\n",
    "y=np.random.randint(1,5,(3,2))\n",
    "x,y"
   ]
  },
  {
   "cell_type": "code",
   "execution_count": 27,
   "id": "2574f701",
   "metadata": {},
   "outputs": [
    {
     "data": {
      "text/plain": [
       "array([[24, 23],\n",
       "       [24, 25],\n",
       "       [22, 14],\n",
       "       [15, 16],\n",
       "       [16, 20]])"
      ]
     },
     "execution_count": 27,
     "metadata": {},
     "output_type": "execute_result"
    }
   ],
   "source": [
    "np.dot(x,y)"
   ]
  },
  {
   "cell_type": "markdown",
   "id": "e5814c27",
   "metadata": {},
   "source": [
    "# Given a 1D array, negate all elements which are between 3 and 8, in place. "
   ]
  },
  {
   "cell_type": "code",
   "execution_count": null,
   "id": "c672ff75",
   "metadata": {},
   "outputs": [],
   "source": []
  },
  {
   "cell_type": "markdown",
   "id": "3e8df4ab",
   "metadata": {},
   "source": [
    "# What is the output of the following script? "
   ]
  },
  {
   "cell_type": "raw",
   "id": "1ba8e2e0",
   "metadata": {},
   "source": [
    "print(sum(range(5),-1))\n",
    "from numpy import *\n",
    "print(sum(range(5),-1))"
   ]
  },
  {
   "cell_type": "code",
   "execution_count": null,
   "id": "13618d9a",
   "metadata": {},
   "outputs": [],
   "source": [
    "10"
   ]
  },
  {
   "cell_type": "markdown",
   "id": "97025303",
   "metadata": {},
   "source": [
    "# Consider an integer vector Z, which of these expressions are legal? "
   ]
  },
  {
   "cell_type": "raw",
   "id": "374eb7eb",
   "metadata": {},
   "source": [
    "Z**Z\n",
    "2 << Z >> 2\n",
    "Z <- Z\n",
    "1j*Z\n",
    "Z/1/1\n",
    "Z<Z>Z"
   ]
  },
  {
   "cell_type": "code",
   "execution_count": null,
   "id": "bee75137",
   "metadata": {},
   "outputs": [],
   "source": [
    "Z<Z>Z"
   ]
  },
  {
   "cell_type": "markdown",
   "id": "4b4634f5",
   "metadata": {},
   "source": [
    "# What are the result of the following expressions? \n"
   ]
  },
  {
   "cell_type": "raw",
   "id": "ca85772d",
   "metadata": {},
   "source": [
    "np.array(0) / np.array(0) -nan"
   ]
  },
  {
   "cell_type": "code",
   "execution_count": 71,
   "id": "1a96744f",
   "metadata": {},
   "outputs": [
    {
     "data": {
      "text/plain": [
       "0"
      ]
     },
     "execution_count": 71,
     "metadata": {},
     "output_type": "execute_result"
    }
   ],
   "source": [
    "np.array(0) // np.array(0)\n"
   ]
  },
  {
   "cell_type": "code",
   "execution_count": 72,
   "id": "141b4528",
   "metadata": {},
   "outputs": [
    {
     "data": {
      "text/plain": [
       "array([-2.14748365e+09])"
      ]
     },
     "execution_count": 72,
     "metadata": {},
     "output_type": "execute_result"
    }
   ],
   "source": [
    "np.array([np.nan]).astype(int).astype(float)"
   ]
  },
  {
   "cell_type": "markdown",
   "id": "a39c16a8",
   "metadata": {},
   "source": [
    "# How to find common values between two arrays? \n"
   ]
  },
  {
   "cell_type": "code",
   "execution_count": 28,
   "id": "bd6215b3",
   "metadata": {
    "scrolled": true
   },
   "outputs": [
    {
     "data": {
      "text/plain": [
       "(array([[35, 12, 19, 41, 24],\n",
       "        [23, 12, 47, 18, 33],\n",
       "        [11, 28, 45,  2,  2],\n",
       "        [38, 20,  6, 18,  1],\n",
       "        [ 2, 22, 36, 34, 41]]),\n",
       " array([[24,  4,  5, 16, 22],\n",
       "        [40, 39, 38, 15, 46],\n",
       "        [39,  3, 20, 48, 18],\n",
       "        [40, 22, 44,  2, 34],\n",
       "        [ 4, 12, 13,  7, 31]]))"
      ]
     },
     "execution_count": 28,
     "metadata": {},
     "output_type": "execute_result"
    }
   ],
   "source": [
    "x=np.random.randint(1,50,(5,5))\n",
    "y=np.random.randint(1,50,(5,5))\n",
    "x,y"
   ]
  },
  {
   "cell_type": "code",
   "execution_count": 29,
   "id": "0d70f7f5",
   "metadata": {},
   "outputs": [
    {
     "data": {
      "text/plain": [
       "array([ 2, 12, 18, 20, 22, 24, 34, 38])"
      ]
     },
     "execution_count": 29,
     "metadata": {},
     "output_type": "execute_result"
    }
   ],
   "source": [
    "np.intersect1d(x,y)"
   ]
  },
  {
   "cell_type": "markdown",
   "id": "0893a811",
   "metadata": {},
   "source": [
    "# How to ignore all numpy warnings (not recommended)? "
   ]
  },
  {
   "cell_type": "code",
   "execution_count": null,
   "id": "6fde8e78",
   "metadata": {},
   "outputs": [],
   "source": [
    "np.seterr(all=\"ignore\")"
   ]
  },
  {
   "cell_type": "markdown",
   "id": "795b925c",
   "metadata": {},
   "source": [
    "# Is the following expressions true? \n"
   ]
  },
  {
   "cell_type": "raw",
   "id": "38745d7b",
   "metadata": {},
   "source": [
    "np.sqrt(-1) == np.emath.sqrt(-1)"
   ]
  },
  {
   "cell_type": "code",
   "execution_count": null,
   "id": "eda3b5b4",
   "metadata": {},
   "outputs": [],
   "source": [
    "False"
   ]
  },
  {
   "cell_type": "markdown",
   "id": "4b4d2255",
   "metadata": {},
   "source": [
    "# How to get the dates of yesterday, today and tomorrow? "
   ]
  },
  {
   "cell_type": "code",
   "execution_count": 61,
   "id": "ae284286",
   "metadata": {},
   "outputs": [
    {
     "name": "stdout",
     "output_type": "stream",
     "text": [
      "Today is: 2023-02-26 \n",
      "Yesterday is: 2023-02-25 \n",
      "Tomorrow is: 2023-02-27 \n",
      "\n"
     ]
    }
   ],
   "source": [
    "import datetime\n",
    "today = np.datetime64('today','D')\n",
    "yesterday = np.datetime64('today','D') - np.timedelta64(1,'D')\n",
    "tomorrow= np.datetime64('today','D') + np.timedelta64(1,'D') \n",
    "\n",
    "print (\"Today is:\", today, \"\\n\" \"Yesterday is:\", yesterday,\"\\n\"\"Tomorrow is:\",tomorrow,\"\\n\")\n"
   ]
  },
  {
   "cell_type": "markdown",
   "id": "1301097b",
   "metadata": {},
   "source": [
    "# How to get all the dates corresponding to the month of July 2016? \n"
   ]
  },
  {
   "cell_type": "code",
   "execution_count": 62,
   "id": "bbc450c5",
   "metadata": {},
   "outputs": [
    {
     "data": {
      "text/plain": [
       "array(['2016-07-01', '2016-07-02', '2016-07-03', '2016-07-04',\n",
       "       '2016-07-05', '2016-07-06', '2016-07-07', '2016-07-08',\n",
       "       '2016-07-09', '2016-07-10', '2016-07-11', '2016-07-12',\n",
       "       '2016-07-13', '2016-07-14', '2016-07-15', '2016-07-16',\n",
       "       '2016-07-17', '2016-07-18', '2016-07-19', '2016-07-20',\n",
       "       '2016-07-21', '2016-07-22', '2016-07-23', '2016-07-24',\n",
       "       '2016-07-25', '2016-07-26', '2016-07-27', '2016-07-28',\n",
       "       '2016-07-29', '2016-07-30', '2016-07-31'], dtype='datetime64[D]')"
      ]
     },
     "execution_count": 62,
     "metadata": {},
     "output_type": "execute_result"
    }
   ],
   "source": [
    "np.arange('2016-07', '2016-08',\n",
    "                dtype='datetime64[D]')"
   ]
  },
  {
   "cell_type": "markdown",
   "id": "c4700fd8",
   "metadata": {},
   "source": [
    "# Extract the integer part of a random array of positive numbers using 4 different methods "
   ]
  },
  {
   "cell_type": "code",
   "execution_count": null,
   "id": "02194cd2",
   "metadata": {},
   "outputs": [],
   "source": []
  },
  {
   "cell_type": "markdown",
   "id": "d4a9aea5",
   "metadata": {},
   "source": [
    "# Create a 5x5 matrix with row values ranging from 0 to 5 \n"
   ]
  },
  {
   "cell_type": "code",
   "execution_count": 49,
   "id": "3cbd3a4b",
   "metadata": {},
   "outputs": [
    {
     "data": {
      "text/plain": [
       "array([[3, 1, 0, 2, 3],\n",
       "       [0, 3, 1, 0, 0],\n",
       "       [0, 4, 0, 0, 3],\n",
       "       [4, 3, 3, 0, 2],\n",
       "       [2, 3, 1, 2, 1]])"
      ]
     },
     "execution_count": 49,
     "metadata": {},
     "output_type": "execute_result"
    }
   ],
   "source": [
    "x=np.random.randint(0,5,(5,5))\n",
    "x"
   ]
  },
  {
   "cell_type": "markdown",
   "id": "872b2ecb",
   "metadata": {},
   "source": [
    "# Create a vector of size 10 with values ranging from 0 to 1, both excluded \n"
   ]
  },
  {
   "cell_type": "code",
   "execution_count": 63,
   "id": "ee9c71e6",
   "metadata": {},
   "outputs": [
    {
     "data": {
      "text/plain": [
       "array([0.43190901, 0.22848622, 0.64173325, 0.14551871, 0.73385974,\n",
       "       0.53972056, 0.89428339, 0.06957559, 0.93436965, 0.06225897])"
      ]
     },
     "execution_count": 63,
     "metadata": {},
     "output_type": "execute_result"
    }
   ],
   "source": [
    "np.random.rand(10)"
   ]
  },
  {
   "cell_type": "markdown",
   "id": "e7479f6d",
   "metadata": {},
   "source": [
    "# Create a random vector of size 20 and sort it \n"
   ]
  },
  {
   "cell_type": "code",
   "execution_count": 22,
   "id": "7658ce61",
   "metadata": {},
   "outputs": [
    {
     "data": {
      "text/plain": [
       "array([10, 11, 11, 12, 13, 14, 16, 17, 17, 21, 21, 22, 22, 24, 25, 26, 28,\n",
       "       28, 29, 29])"
      ]
     },
     "execution_count": 22,
     "metadata": {},
     "output_type": "execute_result"
    }
   ],
   "source": [
    "x=np.random.randint(10,30,20)\n",
    "x\n",
    "np.sort(x)"
   ]
  },
  {
   "cell_type": "markdown",
   "id": "64feb204",
   "metadata": {},
   "source": [
    "# How to sum a small array faster than np.sum? \n"
   ]
  },
  {
   "cell_type": "code",
   "execution_count": 67,
   "id": "ef91fe80",
   "metadata": {},
   "outputs": [
    {
     "name": "stdout",
     "output_type": "stream",
     "text": [
      "[[7 9 5]\n",
      " [5 5 3]\n",
      " [7 2 6]] \n",
      " \n",
      " [[4 3 7]\n",
      " [3 6 6]\n",
      " [6 2 1]]\n"
     ]
    },
    {
     "data": {
      "text/plain": [
       "array([[11, 12, 12],\n",
       "       [ 8, 11,  9],\n",
       "       [13,  4,  7]])"
      ]
     },
     "execution_count": 67,
     "metadata": {},
     "output_type": "execute_result"
    }
   ],
   "source": [
    "a=np.random.randint(1,10,(3,3))\n",
    "b=np.random.randint(1,10,(3,3))\n",
    "print(a,\"\\n \\n\",b)\n",
    "a+b"
   ]
  },
  {
   "cell_type": "markdown",
   "id": "1900a3ee",
   "metadata": {},
   "source": [
    "# Consider two random array A and B, check if they are equal \n"
   ]
  },
  {
   "cell_type": "code",
   "execution_count": 30,
   "id": "4ddeb915",
   "metadata": {
    "scrolled": true
   },
   "outputs": [
    {
     "data": {
      "text/plain": [
       "(array([[9, 6, 4, 3, 1],\n",
       "        [2, 3, 4, 6, 3],\n",
       "        [3, 1, 2, 4, 1],\n",
       "        [8, 6, 1, 5, 5],\n",
       "        [7, 2, 3, 1, 6]]),\n",
       " array([[1, 5, 1, 4, 2],\n",
       "        [2, 1, 7, 8, 1],\n",
       "        [5, 3, 1, 8, 7],\n",
       "        [1, 2, 5, 8, 7],\n",
       "        [4, 7, 8, 3, 1]]))"
      ]
     },
     "execution_count": 30,
     "metadata": {},
     "output_type": "execute_result"
    }
   ],
   "source": [
    "x=np.random.randint(1,10,(5,5))\n",
    "y=np.random.randint(1,10,(5,5))\n",
    "x,y"
   ]
  },
  {
   "cell_type": "code",
   "execution_count": 31,
   "id": "a3040b59",
   "metadata": {},
   "outputs": [
    {
     "data": {
      "text/plain": [
       "array([[False, False, False, False, False],\n",
       "       [ True, False, False, False, False],\n",
       "       [False, False, False, False, False],\n",
       "       [False, False, False, False, False],\n",
       "       [False, False, False, False, False]])"
      ]
     },
     "execution_count": 31,
     "metadata": {},
     "output_type": "execute_result"
    }
   ],
   "source": [
    "np.equal(x,y)"
   ]
  },
  {
   "cell_type": "markdown",
   "id": "20ce1628",
   "metadata": {},
   "source": [
    "# Make an array immutable (read-only) "
   ]
  },
  {
   "cell_type": "code",
   "execution_count": 48,
   "id": "afbeb011",
   "metadata": {},
   "outputs": [
    {
     "name": "stdout",
     "output_type": "stream",
     "text": [
      "[ 7  9 11  9  8  4  1 11  2  6]\n"
     ]
    },
    {
     "ename": "ValueError",
     "evalue": "assignment destination is read-only",
     "output_type": "error",
     "traceback": [
      "\u001b[1;31m---------------------------------------------------------------------------\u001b[0m",
      "\u001b[1;31mValueError\u001b[0m                                Traceback (most recent call last)",
      "Input \u001b[1;32mIn [48]\u001b[0m, in \u001b[0;36m<cell line: 4>\u001b[1;34m()\u001b[0m\n\u001b[0;32m      2\u001b[0m \u001b[38;5;28mprint\u001b[39m (a)\n\u001b[0;32m      3\u001b[0m a\u001b[38;5;241m.\u001b[39mflags\u001b[38;5;241m.\u001b[39mwriteable\u001b[38;5;241m=\u001b[39m\u001b[38;5;28;01mFalse\u001b[39;00m\n\u001b[1;32m----> 4\u001b[0m a[\u001b[38;5;241m5\u001b[39m]\u001b[38;5;241m=\u001b[39m\u001b[38;5;241m99\u001b[39m\n",
      "\u001b[1;31mValueError\u001b[0m: assignment destination is read-only"
     ]
    }
   ],
   "source": [
    "a=np.random.randint(1,15,10)\n",
    "print (a)\n",
    "a.flags.writeable=False\n",
    "a[5]=99"
   ]
  },
  {
   "cell_type": "markdown",
   "id": "56641281",
   "metadata": {},
   "source": [
    "# Consider a random 5x2 matrix representing cartesian coordinates, convert them to polar coordinates "
   ]
  },
  {
   "cell_type": "code",
   "execution_count": null,
   "id": "ad15434a",
   "metadata": {},
   "outputs": [],
   "source": []
  },
  {
   "cell_type": "markdown",
   "id": "5bdf4dc2",
   "metadata": {},
   "source": [
    "# Create random vector of size 20 and replace the maximum value by 0 \n"
   ]
  },
  {
   "cell_type": "code",
   "execution_count": 40,
   "id": "7cde6746",
   "metadata": {},
   "outputs": [
    {
     "name": "stdout",
     "output_type": "stream",
     "text": [
      "[13  7 11  1  6  6 13  6  9  2  7 12  5  4  2  1 13  7  7  2]\n",
      "0\n"
     ]
    },
    {
     "data": {
      "text/plain": [
       "array([ 0,  7, 11,  1,  6,  6, 13,  6,  9,  2,  7, 12,  5,  4,  2,  1, 13,\n",
       "        7,  7,  2])"
      ]
     },
     "execution_count": 40,
     "metadata": {},
     "output_type": "execute_result"
    }
   ],
   "source": [
    "x=np.random.randint(1,15,20)\n",
    "print (x)\n",
    "y=np.argmax(x)\n",
    "print(y)\n",
    "x[y]=0\n",
    "x"
   ]
  },
  {
   "cell_type": "markdown",
   "id": "3058bd6b",
   "metadata": {},
   "source": [
    "# Print the minimum and maximum representable value for each numpy scalar type "
   ]
  },
  {
   "cell_type": "code",
   "execution_count": null,
   "id": "92333635",
   "metadata": {},
   "outputs": [],
   "source": []
  },
  {
   "cell_type": "markdown",
   "id": "ea902cc8",
   "metadata": {},
   "source": [
    "# How to print all the values of an array? \n"
   ]
  },
  {
   "cell_type": "code",
   "execution_count": 42,
   "id": "00f14e3f",
   "metadata": {},
   "outputs": [
    {
     "name": "stdout",
     "output_type": "stream",
     "text": [
      "[[7 6 3 4 4]\n",
      " [3 4 9 4 5]\n",
      " [8 5 6 8 4]\n",
      " [8 1 2 6 1]\n",
      " [8 7 7 1 1]]\n"
     ]
    }
   ],
   "source": [
    "x=np.random.randint(1,10,(5,5))\n",
    "print(x)"
   ]
  },
  {
   "cell_type": "markdown",
   "id": "db528472",
   "metadata": {},
   "source": [
    "# How to convert a float (32 bits) array into an integer (32 bits) in place"
   ]
  },
  {
   "cell_type": "code",
   "execution_count": 44,
   "id": "15ff684f",
   "metadata": {},
   "outputs": [
    {
     "name": "stdout",
     "output_type": "stream",
     "text": [
      "[[ 0.65537947  0.56427327 -1.22432919  1.52818083 -0.74750555]\n",
      " [ 0.1047462  -0.344091    1.26414171  0.96036649  1.22431547]\n",
      " [ 0.49137511  1.38068393  2.66321576  1.16432375 -2.43570472]\n",
      " [ 1.18123093 -0.04318251  1.46817648 -1.07854598 -0.86347759]\n",
      " [ 0.02308497 -1.70842151  0.0535424  -2.22682227 -0.27423327]]\n"
     ]
    },
    {
     "data": {
      "text/plain": [
       "array([[ 1.,  1., -1.,  2., -1.],\n",
       "       [ 0., -0.,  1.,  1.,  1.],\n",
       "       [ 0.,  1.,  3.,  1., -2.],\n",
       "       [ 1., -0.,  1., -1., -1.],\n",
       "       [ 0., -2.,  0., -2., -0.]])"
      ]
     },
     "execution_count": 44,
     "metadata": {},
     "output_type": "execute_result"
    }
   ],
   "source": [
    "x=np.random.randn(5,5)\n",
    "print (x)\n",
    "np.round(x)"
   ]
  },
  {
   "cell_type": "markdown",
   "id": "7c434cfd",
   "metadata": {},
   "source": [
    "# How to randomly place p elements in a 2D array? "
   ]
  },
  {
   "cell_type": "code",
   "execution_count": null,
   "id": "b26d275d",
   "metadata": {},
   "outputs": [],
   "source": []
  },
  {
   "cell_type": "markdown",
   "id": "c4bf532f",
   "metadata": {},
   "source": [
    "# Subtract the mean of each row of a matrix \n"
   ]
  },
  {
   "cell_type": "code",
   "execution_count": 79,
   "id": "b55b7c6b",
   "metadata": {},
   "outputs": [
    {
     "name": "stdout",
     "output_type": "stream",
     "text": [
      "[[5 5 2]\n",
      " [8 6 5]\n",
      " [1 5 7]]\n",
      "[[ 1.         -1.33333333 -2.33333333]\n",
      " [ 4.         -0.33333333  0.66666667]\n",
      " [-3.         -1.33333333  2.66666667]]\n"
     ]
    }
   ],
   "source": [
    "x = np.random.randint(1,10,(3,3))\n",
    "print (x)\n",
    "y = x - x.mean(axis=1)\n",
    "print(y)"
   ]
  },
  {
   "cell_type": "markdown",
   "id": "b5f870e8",
   "metadata": {},
   "source": [
    "# How to sort an array by the nth column? "
   ]
  },
  {
   "cell_type": "code",
   "execution_count": null,
   "id": "44cd5496",
   "metadata": {},
   "outputs": [],
   "source": []
  },
  {
   "cell_type": "markdown",
   "id": "1704be44",
   "metadata": {},
   "source": [
    "# How to tell if a given 2D array has null columns? \n"
   ]
  },
  {
   "cell_type": "code",
   "execution_count": 69,
   "id": "f01eb2ab",
   "metadata": {},
   "outputs": [
    {
     "name": "stdout",
     "output_type": "stream",
     "text": [
      "[[7 3 4]\n",
      " [3 7 4]\n",
      " [9 4 5]]\n"
     ]
    },
    {
     "data": {
      "text/plain": [
       "array([[False, False, False],\n",
       "       [False, False, False],\n",
       "       [False, False, False]])"
      ]
     },
     "execution_count": 69,
     "metadata": {},
     "output_type": "execute_result"
    }
   ],
   "source": [
    "a=np.random.randint(1,10,(3,3))\n",
    "print (a)\n",
    "np.isnan(a)"
   ]
  },
  {
   "cell_type": "markdown",
   "id": "44b4996b",
   "metadata": {},
   "source": [
    "# Considering a four dimensions array, how to get sum over the last two axis at once? "
   ]
  },
  {
   "cell_type": "code",
   "execution_count": null,
   "id": "178208e8",
   "metadata": {},
   "outputs": [],
   "source": []
  },
  {
   "cell_type": "markdown",
   "id": "dc2e8f52",
   "metadata": {},
   "source": [
    "# How to get the diagonal of a dot product? "
   ]
  },
  {
   "cell_type": "code",
   "execution_count": 68,
   "id": "5a244fd8",
   "metadata": {},
   "outputs": [
    {
     "data": {
      "text/plain": [
       "array([138, 105,  89,  87, 131])"
      ]
     },
     "execution_count": 68,
     "metadata": {},
     "output_type": "execute_result"
    }
   ],
   "source": [
    "a=np.random.randint(1,10,(5,5))\n",
    "b=np.random.randint(1,10,(5,5))\n",
    "a,b\n",
    "np.dot(a,b)\n",
    "np.diag(np.dot(a,b))"
   ]
  },
  {
   "cell_type": "markdown",
   "id": "3078b151",
   "metadata": {},
   "source": [
    "# Consider the vector [1, 2, 3, 4, 5], how to build a new vector with 3 consecutive zeros interleaved between each value? "
   ]
  },
  {
   "cell_type": "code",
   "execution_count": null,
   "id": "af0e07d5",
   "metadata": {},
   "outputs": [],
   "source": []
  },
  {
   "cell_type": "markdown",
   "id": "7edf759f",
   "metadata": {},
   "source": [
    "# Consider an array of dimension (5,5,3), how to mulitply it by an array with dimensions (5,5)? "
   ]
  },
  {
   "cell_type": "code",
   "execution_count": null,
   "id": "8b77bcd0",
   "metadata": {},
   "outputs": [],
   "source": []
  },
  {
   "cell_type": "markdown",
   "id": "7d04bc76",
   "metadata": {},
   "source": [
    "# How to swap two rows of an array? \n"
   ]
  },
  {
   "cell_type": "code",
   "execution_count": 46,
   "id": "fe35cdf6",
   "metadata": {},
   "outputs": [
    {
     "name": "stdout",
     "output_type": "stream",
     "text": [
      "[[7 4 7 2]\n",
      " [3 1 7 3]\n",
      " [7 6 6 6]\n",
      " [8 9 9 5]]\n"
     ]
    },
    {
     "data": {
      "text/plain": [
       "array([[8, 9, 9, 5],\n",
       "       [7, 4, 7, 2],\n",
       "       [3, 1, 7, 3],\n",
       "       [7, 6, 6, 6]])"
      ]
     },
     "execution_count": 46,
     "metadata": {},
     "output_type": "execute_result"
    }
   ],
   "source": [
    "x=np.random.randint(1,10,(4,4))\n",
    "print (x)\n",
    "np.roll(x,1,axis=0)"
   ]
  },
  {
   "cell_type": "markdown",
   "id": "a581d865",
   "metadata": {},
   "source": [
    "# Consider an array Z = [1,2,3,4,5,6,7,8,9,10,11,12,13,14], how to generate an array R = [[1,2,3,4], [2,3,4,5], [3,4,5,6], ..., [11,12,13,14]]? "
   ]
  },
  {
   "cell_type": "code",
   "execution_count": null,
   "id": "a3c714fc",
   "metadata": {},
   "outputs": [],
   "source": []
  },
  {
   "cell_type": "markdown",
   "id": "913f065a",
   "metadata": {},
   "source": [
    "# Compute a matrix rank "
   ]
  },
  {
   "cell_type": "code",
   "execution_count": 70,
   "id": "e788eb15",
   "metadata": {},
   "outputs": [
    {
     "name": "stdout",
     "output_type": "stream",
     "text": [
      "[[9 3 2 7 1]\n",
      " [9 8 5 3 5]\n",
      " [8 5 3 8 1]\n",
      " [2 9 9 9 7]\n",
      " [3 2 2 7 8]]\n"
     ]
    },
    {
     "data": {
      "text/plain": [
       "5"
      ]
     },
     "execution_count": 70,
     "metadata": {},
     "output_type": "execute_result"
    }
   ],
   "source": [
    "a=np.random.randint(1,10,(5,5))\n",
    "print (a)\n",
    "np.linalg.matrix_rank(a)"
   ]
  },
  {
   "cell_type": "markdown",
   "id": "11ea221d",
   "metadata": {},
   "source": [
    "# How to find the most frequent value in an array?\n"
   ]
  },
  {
   "cell_type": "code",
   "execution_count": 43,
   "id": "6e29f506",
   "metadata": {},
   "outputs": [
    {
     "name": "stdout",
     "output_type": "stream",
     "text": [
      "[2 6 6 7 5 1 1 9 2 8 7 9 3 3 9]\n"
     ]
    },
    {
     "data": {
      "text/plain": [
       "9"
      ]
     },
     "execution_count": 43,
     "metadata": {},
     "output_type": "execute_result"
    }
   ],
   "source": [
    "x=np.random.randint(1,10,15)\n",
    "print (x)\n",
    "np.bincount(x).argmax()"
   ]
  },
  {
   "cell_type": "markdown",
   "id": "a960699a",
   "metadata": {},
   "source": [
    "# How to get the n largest values of an array "
   ]
  },
  {
   "cell_type": "code",
   "execution_count": 47,
   "id": "63b061ff",
   "metadata": {},
   "outputs": [
    {
     "name": "stdout",
     "output_type": "stream",
     "text": [
      "[ 4  1 12  2  6  1  9  5  5  7]\n",
      "[ 1  1  2  4  5  5  6  7  9 12]\n"
     ]
    },
    {
     "data": {
      "text/plain": [
       "array([ 7,  9, 12])"
      ]
     },
     "execution_count": 47,
     "metadata": {},
     "output_type": "execute_result"
    }
   ],
   "source": [
    "n=3\n",
    "a=np.random.randint(1,15,10)\n",
    "print (a)\n",
    "b=np.sort(a)\n",
    "print (b)\n",
    "b[-n:]"
   ]
  },
  {
   "cell_type": "code",
   "execution_count": null,
   "id": "1c52c225",
   "metadata": {},
   "outputs": [],
   "source": []
  },
  {
   "cell_type": "code",
   "execution_count": null,
   "id": "f5a0d68b",
   "metadata": {},
   "outputs": [],
   "source": []
  },
  {
   "cell_type": "code",
   "execution_count": null,
   "id": "297e0bc3",
   "metadata": {},
   "outputs": [],
   "source": []
  },
  {
   "cell_type": "code",
   "execution_count": null,
   "id": "10d62a35",
   "metadata": {},
   "outputs": [],
   "source": []
  },
  {
   "cell_type": "code",
   "execution_count": null,
   "id": "dbbbec97",
   "metadata": {},
   "outputs": [],
   "source": []
  },
  {
   "cell_type": "code",
   "execution_count": null,
   "id": "4f95af30",
   "metadata": {},
   "outputs": [],
   "source": []
  },
  {
   "cell_type": "code",
   "execution_count": null,
   "id": "a13881ec",
   "metadata": {},
   "outputs": [],
   "source": []
  },
  {
   "cell_type": "code",
   "execution_count": null,
   "id": "04bac3b1",
   "metadata": {},
   "outputs": [],
   "source": []
  },
  {
   "cell_type": "code",
   "execution_count": null,
   "id": "30566cf7",
   "metadata": {},
   "outputs": [],
   "source": []
  },
  {
   "cell_type": "code",
   "execution_count": null,
   "id": "ca301bc7",
   "metadata": {},
   "outputs": [],
   "source": []
  },
  {
   "cell_type": "code",
   "execution_count": null,
   "id": "8b0454e0",
   "metadata": {},
   "outputs": [],
   "source": []
  },
  {
   "cell_type": "code",
   "execution_count": null,
   "id": "65fc8f2e",
   "metadata": {},
   "outputs": [],
   "source": []
  },
  {
   "cell_type": "code",
   "execution_count": null,
   "id": "20463db9",
   "metadata": {},
   "outputs": [],
   "source": []
  },
  {
   "cell_type": "code",
   "execution_count": null,
   "id": "2eb83d6c",
   "metadata": {},
   "outputs": [],
   "source": []
  },
  {
   "cell_type": "code",
   "execution_count": null,
   "id": "c50866b6",
   "metadata": {},
   "outputs": [],
   "source": []
  },
  {
   "cell_type": "code",
   "execution_count": null,
   "id": "43f224c3",
   "metadata": {},
   "outputs": [],
   "source": []
  },
  {
   "cell_type": "code",
   "execution_count": null,
   "id": "d9828282",
   "metadata": {},
   "outputs": [],
   "source": []
  },
  {
   "cell_type": "code",
   "execution_count": null,
   "id": "3e8a7272",
   "metadata": {},
   "outputs": [],
   "source": []
  },
  {
   "cell_type": "code",
   "execution_count": null,
   "id": "c6259444",
   "metadata": {},
   "outputs": [],
   "source": []
  },
  {
   "cell_type": "code",
   "execution_count": null,
   "id": "6a74cc9b",
   "metadata": {},
   "outputs": [],
   "source": []
  },
  {
   "cell_type": "code",
   "execution_count": null,
   "id": "936215b7",
   "metadata": {},
   "outputs": [],
   "source": []
  },
  {
   "cell_type": "code",
   "execution_count": null,
   "id": "c8b42b99",
   "metadata": {},
   "outputs": [],
   "source": []
  },
  {
   "cell_type": "code",
   "execution_count": null,
   "id": "9c51f9bd",
   "metadata": {},
   "outputs": [],
   "source": []
  },
  {
   "cell_type": "code",
   "execution_count": null,
   "id": "7eb9b7dd",
   "metadata": {},
   "outputs": [],
   "source": []
  },
  {
   "cell_type": "code",
   "execution_count": null,
   "id": "88c0b8fd",
   "metadata": {},
   "outputs": [],
   "source": []
  },
  {
   "cell_type": "code",
   "execution_count": null,
   "id": "1faaac70",
   "metadata": {},
   "outputs": [],
   "source": []
  },
  {
   "cell_type": "code",
   "execution_count": null,
   "id": "907c16dd",
   "metadata": {},
   "outputs": [],
   "source": []
  },
  {
   "cell_type": "code",
   "execution_count": null,
   "id": "2ab47a62",
   "metadata": {},
   "outputs": [],
   "source": []
  },
  {
   "cell_type": "code",
   "execution_count": null,
   "id": "cf15f4fc",
   "metadata": {},
   "outputs": [],
   "source": []
  },
  {
   "cell_type": "code",
   "execution_count": null,
   "id": "93a38b09",
   "metadata": {},
   "outputs": [],
   "source": []
  },
  {
   "cell_type": "code",
   "execution_count": null,
   "id": "f2fe3d42",
   "metadata": {},
   "outputs": [],
   "source": []
  },
  {
   "cell_type": "code",
   "execution_count": null,
   "id": "4231960c",
   "metadata": {},
   "outputs": [],
   "source": []
  },
  {
   "cell_type": "code",
   "execution_count": null,
   "id": "3f2fd7c0",
   "metadata": {},
   "outputs": [],
   "source": []
  },
  {
   "cell_type": "code",
   "execution_count": null,
   "id": "c1e073b5",
   "metadata": {},
   "outputs": [],
   "source": []
  },
  {
   "cell_type": "code",
   "execution_count": null,
   "id": "5226ed8d",
   "metadata": {},
   "outputs": [],
   "source": []
  },
  {
   "cell_type": "code",
   "execution_count": null,
   "id": "9e5823d2",
   "metadata": {},
   "outputs": [],
   "source": []
  },
  {
   "cell_type": "code",
   "execution_count": null,
   "id": "71e87874",
   "metadata": {},
   "outputs": [],
   "source": []
  },
  {
   "cell_type": "code",
   "execution_count": null,
   "id": "01747236",
   "metadata": {},
   "outputs": [],
   "source": []
  },
  {
   "cell_type": "code",
   "execution_count": null,
   "id": "e8ceb9c1",
   "metadata": {},
   "outputs": [],
   "source": []
  },
  {
   "cell_type": "code",
   "execution_count": null,
   "id": "7467a190",
   "metadata": {},
   "outputs": [],
   "source": []
  },
  {
   "cell_type": "code",
   "execution_count": null,
   "id": "2bf45195",
   "metadata": {},
   "outputs": [],
   "source": []
  },
  {
   "cell_type": "code",
   "execution_count": null,
   "id": "8575126a",
   "metadata": {},
   "outputs": [],
   "source": []
  },
  {
   "cell_type": "code",
   "execution_count": null,
   "id": "0967f9ca",
   "metadata": {},
   "outputs": [],
   "source": []
  },
  {
   "cell_type": "code",
   "execution_count": null,
   "id": "918c9383",
   "metadata": {},
   "outputs": [],
   "source": []
  },
  {
   "cell_type": "code",
   "execution_count": null,
   "id": "edbefc14",
   "metadata": {},
   "outputs": [],
   "source": []
  },
  {
   "cell_type": "code",
   "execution_count": null,
   "id": "0d26e36c",
   "metadata": {},
   "outputs": [],
   "source": []
  },
  {
   "cell_type": "code",
   "execution_count": null,
   "id": "0e532bcd",
   "metadata": {},
   "outputs": [],
   "source": []
  },
  {
   "cell_type": "code",
   "execution_count": null,
   "id": "c699bab4",
   "metadata": {},
   "outputs": [],
   "source": []
  },
  {
   "cell_type": "code",
   "execution_count": null,
   "id": "df58567f",
   "metadata": {},
   "outputs": [],
   "source": []
  },
  {
   "cell_type": "code",
   "execution_count": null,
   "id": "e46fc8e7",
   "metadata": {},
   "outputs": [],
   "source": []
  },
  {
   "cell_type": "code",
   "execution_count": null,
   "id": "2027bdf1",
   "metadata": {},
   "outputs": [],
   "source": []
  },
  {
   "cell_type": "code",
   "execution_count": null,
   "id": "a2b9c3db",
   "metadata": {},
   "outputs": [],
   "source": []
  },
  {
   "cell_type": "code",
   "execution_count": null,
   "id": "b138a810",
   "metadata": {},
   "outputs": [],
   "source": []
  },
  {
   "cell_type": "code",
   "execution_count": null,
   "id": "1b4cc669",
   "metadata": {},
   "outputs": [],
   "source": []
  },
  {
   "cell_type": "code",
   "execution_count": null,
   "id": "e2470b28",
   "metadata": {},
   "outputs": [],
   "source": []
  },
  {
   "cell_type": "code",
   "execution_count": null,
   "id": "24e265a8",
   "metadata": {},
   "outputs": [],
   "source": []
  },
  {
   "cell_type": "code",
   "execution_count": null,
   "id": "dd886168",
   "metadata": {},
   "outputs": [],
   "source": []
  },
  {
   "cell_type": "code",
   "execution_count": null,
   "id": "a641c29c",
   "metadata": {},
   "outputs": [],
   "source": []
  },
  {
   "cell_type": "code",
   "execution_count": null,
   "id": "34391fd3",
   "metadata": {},
   "outputs": [],
   "source": []
  },
  {
   "cell_type": "code",
   "execution_count": null,
   "id": "4b2e676c",
   "metadata": {},
   "outputs": [],
   "source": []
  },
  {
   "cell_type": "code",
   "execution_count": null,
   "id": "f57df740",
   "metadata": {},
   "outputs": [],
   "source": []
  },
  {
   "cell_type": "code",
   "execution_count": null,
   "id": "7b2efc62",
   "metadata": {},
   "outputs": [],
   "source": []
  },
  {
   "cell_type": "code",
   "execution_count": null,
   "id": "cdc029e1",
   "metadata": {},
   "outputs": [],
   "source": []
  },
  {
   "cell_type": "code",
   "execution_count": null,
   "id": "5c8653e6",
   "metadata": {},
   "outputs": [],
   "source": []
  },
  {
   "cell_type": "code",
   "execution_count": null,
   "id": "a37a9569",
   "metadata": {},
   "outputs": [],
   "source": []
  },
  {
   "cell_type": "code",
   "execution_count": null,
   "id": "1539ece4",
   "metadata": {},
   "outputs": [],
   "source": []
  },
  {
   "cell_type": "code",
   "execution_count": null,
   "id": "9a5564ce",
   "metadata": {},
   "outputs": [],
   "source": []
  },
  {
   "cell_type": "code",
   "execution_count": null,
   "id": "90303369",
   "metadata": {},
   "outputs": [],
   "source": []
  },
  {
   "cell_type": "code",
   "execution_count": null,
   "id": "49962cbf",
   "metadata": {},
   "outputs": [],
   "source": []
  },
  {
   "cell_type": "code",
   "execution_count": null,
   "id": "38fc56d6",
   "metadata": {},
   "outputs": [],
   "source": []
  },
  {
   "cell_type": "code",
   "execution_count": null,
   "id": "790c2e44",
   "metadata": {},
   "outputs": [],
   "source": []
  },
  {
   "cell_type": "code",
   "execution_count": null,
   "id": "9f008159",
   "metadata": {},
   "outputs": [],
   "source": []
  },
  {
   "cell_type": "code",
   "execution_count": null,
   "id": "29026579",
   "metadata": {},
   "outputs": [],
   "source": []
  },
  {
   "cell_type": "code",
   "execution_count": null,
   "id": "44e1076b",
   "metadata": {},
   "outputs": [],
   "source": []
  },
  {
   "cell_type": "code",
   "execution_count": null,
   "id": "001b0cac",
   "metadata": {},
   "outputs": [],
   "source": []
  },
  {
   "cell_type": "code",
   "execution_count": null,
   "id": "12369e93",
   "metadata": {},
   "outputs": [],
   "source": []
  },
  {
   "cell_type": "code",
   "execution_count": null,
   "id": "050ac18a",
   "metadata": {},
   "outputs": [],
   "source": []
  },
  {
   "cell_type": "code",
   "execution_count": null,
   "id": "bf5f5208",
   "metadata": {},
   "outputs": [],
   "source": []
  },
  {
   "cell_type": "code",
   "execution_count": null,
   "id": "bbf46486",
   "metadata": {},
   "outputs": [],
   "source": []
  },
  {
   "cell_type": "code",
   "execution_count": null,
   "id": "6a3f25c4",
   "metadata": {},
   "outputs": [],
   "source": []
  },
  {
   "cell_type": "code",
   "execution_count": null,
   "id": "46f33e1e",
   "metadata": {},
   "outputs": [],
   "source": []
  },
  {
   "cell_type": "code",
   "execution_count": null,
   "id": "d25c1be6",
   "metadata": {},
   "outputs": [],
   "source": []
  },
  {
   "cell_type": "code",
   "execution_count": null,
   "id": "2bcf1f2e",
   "metadata": {},
   "outputs": [],
   "source": []
  },
  {
   "cell_type": "code",
   "execution_count": null,
   "id": "d04efd79",
   "metadata": {},
   "outputs": [],
   "source": []
  },
  {
   "cell_type": "code",
   "execution_count": null,
   "id": "c1d3c04c",
   "metadata": {},
   "outputs": [],
   "source": []
  },
  {
   "cell_type": "code",
   "execution_count": null,
   "id": "1e229851",
   "metadata": {},
   "outputs": [],
   "source": []
  },
  {
   "cell_type": "code",
   "execution_count": null,
   "id": "81bf303c",
   "metadata": {},
   "outputs": [],
   "source": []
  },
  {
   "cell_type": "code",
   "execution_count": null,
   "id": "9f11d353",
   "metadata": {},
   "outputs": [],
   "source": []
  },
  {
   "cell_type": "code",
   "execution_count": null,
   "id": "89d2e79a",
   "metadata": {},
   "outputs": [],
   "source": []
  },
  {
   "cell_type": "code",
   "execution_count": null,
   "id": "a282ee4a",
   "metadata": {},
   "outputs": [],
   "source": []
  },
  {
   "cell_type": "code",
   "execution_count": null,
   "id": "2c2363f8",
   "metadata": {},
   "outputs": [],
   "source": []
  },
  {
   "cell_type": "code",
   "execution_count": null,
   "id": "4d97d0f1",
   "metadata": {},
   "outputs": [],
   "source": []
  },
  {
   "cell_type": "code",
   "execution_count": null,
   "id": "f855d590",
   "metadata": {},
   "outputs": [],
   "source": []
  },
  {
   "cell_type": "code",
   "execution_count": null,
   "id": "a7970094",
   "metadata": {},
   "outputs": [],
   "source": []
  },
  {
   "cell_type": "code",
   "execution_count": null,
   "id": "099da818",
   "metadata": {},
   "outputs": [],
   "source": []
  },
  {
   "cell_type": "code",
   "execution_count": null,
   "id": "9ad8f9f4",
   "metadata": {},
   "outputs": [],
   "source": []
  },
  {
   "cell_type": "code",
   "execution_count": null,
   "id": "1be39a53",
   "metadata": {},
   "outputs": [],
   "source": []
  },
  {
   "cell_type": "code",
   "execution_count": null,
   "id": "0d406225",
   "metadata": {},
   "outputs": [],
   "source": []
  },
  {
   "cell_type": "code",
   "execution_count": null,
   "id": "c261fa7a",
   "metadata": {},
   "outputs": [],
   "source": []
  },
  {
   "cell_type": "code",
   "execution_count": null,
   "id": "7c033c74",
   "metadata": {},
   "outputs": [],
   "source": []
  },
  {
   "cell_type": "code",
   "execution_count": null,
   "id": "68e33139",
   "metadata": {},
   "outputs": [],
   "source": []
  },
  {
   "cell_type": "code",
   "execution_count": null,
   "id": "597791a4",
   "metadata": {},
   "outputs": [],
   "source": []
  },
  {
   "cell_type": "code",
   "execution_count": null,
   "id": "5f0cf28a",
   "metadata": {},
   "outputs": [],
   "source": []
  },
  {
   "cell_type": "code",
   "execution_count": null,
   "id": "2a10e2e8",
   "metadata": {},
   "outputs": [],
   "source": []
  },
  {
   "cell_type": "code",
   "execution_count": null,
   "id": "18ede8ac",
   "metadata": {},
   "outputs": [],
   "source": []
  },
  {
   "cell_type": "code",
   "execution_count": null,
   "id": "709b41e0",
   "metadata": {},
   "outputs": [],
   "source": []
  },
  {
   "cell_type": "code",
   "execution_count": null,
   "id": "82cd0d5d",
   "metadata": {},
   "outputs": [],
   "source": []
  },
  {
   "cell_type": "code",
   "execution_count": null,
   "id": "9acb7f71",
   "metadata": {},
   "outputs": [],
   "source": []
  },
  {
   "cell_type": "code",
   "execution_count": null,
   "id": "b127dc13",
   "metadata": {},
   "outputs": [],
   "source": []
  },
  {
   "cell_type": "code",
   "execution_count": null,
   "id": "11dc7846",
   "metadata": {},
   "outputs": [],
   "source": []
  },
  {
   "cell_type": "code",
   "execution_count": null,
   "id": "30d45bed",
   "metadata": {},
   "outputs": [],
   "source": []
  },
  {
   "cell_type": "code",
   "execution_count": null,
   "id": "7e72e116",
   "metadata": {},
   "outputs": [],
   "source": []
  },
  {
   "cell_type": "code",
   "execution_count": null,
   "id": "fc8edd14",
   "metadata": {},
   "outputs": [],
   "source": []
  },
  {
   "cell_type": "code",
   "execution_count": null,
   "id": "6b0be5c9",
   "metadata": {},
   "outputs": [],
   "source": []
  },
  {
   "cell_type": "code",
   "execution_count": null,
   "id": "70bea7f9",
   "metadata": {},
   "outputs": [],
   "source": []
  },
  {
   "cell_type": "code",
   "execution_count": null,
   "id": "e92f8be4",
   "metadata": {},
   "outputs": [],
   "source": []
  },
  {
   "cell_type": "code",
   "execution_count": null,
   "id": "b4a60306",
   "metadata": {},
   "outputs": [],
   "source": []
  },
  {
   "cell_type": "code",
   "execution_count": null,
   "id": "c2485934",
   "metadata": {},
   "outputs": [],
   "source": []
  },
  {
   "cell_type": "code",
   "execution_count": null,
   "id": "e115b805",
   "metadata": {},
   "outputs": [],
   "source": []
  },
  {
   "cell_type": "code",
   "execution_count": null,
   "id": "99ac7ecf",
   "metadata": {},
   "outputs": [],
   "source": []
  },
  {
   "cell_type": "code",
   "execution_count": null,
   "id": "9be4f9a3",
   "metadata": {},
   "outputs": [],
   "source": []
  },
  {
   "cell_type": "code",
   "execution_count": null,
   "id": "34b07046",
   "metadata": {},
   "outputs": [],
   "source": []
  },
  {
   "cell_type": "code",
   "execution_count": null,
   "id": "ab1fa346",
   "metadata": {},
   "outputs": [],
   "source": []
  }
 ],
 "metadata": {
  "hide_input": false,
  "kernelspec": {
   "display_name": "Python 3 (ipykernel)",
   "language": "python",
   "name": "python3"
  },
  "language_info": {
   "codemirror_mode": {
    "name": "ipython",
    "version": 3
   },
   "file_extension": ".py",
   "mimetype": "text/x-python",
   "name": "python",
   "nbconvert_exporter": "python",
   "pygments_lexer": "ipython3",
   "version": "3.9.12"
  },
  "toc": {
   "base_numbering": 1,
   "nav_menu": {},
   "number_sections": true,
   "sideBar": true,
   "skip_h1_title": false,
   "title_cell": "Table of Contents",
   "title_sidebar": "Contents",
   "toc_cell": false,
   "toc_position": {},
   "toc_section_display": true,
   "toc_window_display": false
  }
 },
 "nbformat": 4,
 "nbformat_minor": 5
}
